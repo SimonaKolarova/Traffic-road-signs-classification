{
 "metadata": {
  "language_info": {
   "codemirror_mode": {
    "name": "ipython",
    "version": 3
   },
   "file_extension": ".py",
   "mimetype": "text/x-python",
   "name": "python",
   "nbconvert_exporter": "python",
   "pygments_lexer": "ipython3",
   "version": "3.8.6-final"
  },
  "orig_nbformat": 2,
  "kernelspec": {
   "name": "python3",
   "display_name": "Python 3.8.6 64-bit",
   "metadata": {
    "interpreter": {
     "hash": "8efc446f040735fb175d380c039f50d288bda5e9a23cf45588a4ef7c11f1c205"
    }
   }
  }
 },
 "nbformat": 4,
 "nbformat_minor": 2,
 "cells": [
  {
   "source": [
    "# Libraries"
   ],
   "cell_type": "markdown",
   "metadata": {}
  },
  {
   "cell_type": "code",
   "execution_count": 1,
   "metadata": {},
   "outputs": [],
   "source": [
    "import pandas as pd\n",
    "import plotly.graph_objects as go"
   ]
  },
  {
   "source": [
    "# Image size counts"
   ],
   "cell_type": "markdown",
   "metadata": {}
  },
  {
   "cell_type": "code",
   "execution_count": 8,
   "metadata": {},
   "outputs": [],
   "source": [
    "# Image size data\n",
    "image_size_counts = pd.read_csv(\"Image size counts.csv\")\n",
    "\n",
    "# Plotly plot\n",
    "fig = go.Figure() \n",
    "\n",
    "\n",
    "# Training data bar\n",
    "fig.add_trace(\n",
    "    go.Violin(\n",
    "        y=image_size_counts['Dimension'][:39209], \n",
    "        marker_color='#a80e0e', \n",
    "        opacity=0.8, \n",
    "        name = \"Training data\"))\n",
    "\n",
    "# Training data bar\n",
    "fig.add_trace(\n",
    "    go.Violin(\n",
    "        y=image_size_counts['Dimension'][39210:], \n",
    "        marker_color='#0e82a8', \n",
    "        opacity=0.8, \n",
    "        name = \"Validation data\"))\n",
    "\n",
    "# Layout\n",
    "fig.update_layout(\n",
    "    autosize=False,\n",
    "    width=372,\n",
    "    height=180,\n",
    "    showlegend=False,     \n",
    "    margin={'l': 20, 'r': 20, 't':  20, 'b': 20},\n",
    "    template=\"simple_white\",\n",
    "    yaxis_title = \"Image dimensions (px)\",\n",
    "    yaxis_dtick = 50)\n",
    "\n",
    "# HTML export\n",
    "fig.write_html(\"Image_size_counts.html\")"
   ]
  },
  {
   "source": [
    "# Traffic road sign counts"
   ],
   "cell_type": "markdown",
   "metadata": {}
  },
  {
   "cell_type": "code",
   "execution_count": 20,
   "metadata": {},
   "outputs": [],
   "source": [
    "# Traffic road sign counts data\n",
    "class_counts = pd.read_csv(\"Class counts.csv\")\n",
    "\n",
    "# Plotly plot\n",
    "fig = go.Figure() \n",
    "\n",
    "# Training data bar\n",
    "fig.add_trace(\n",
    "    go.Bar(\n",
    "        x=class_counts['Cathegory'], \n",
    "        y = class_counts['Train'], \n",
    "        name = \"Training data\",\n",
    "        marker_color='#a80e0e', \n",
    "        marker_line_color='#333333',\n",
    "        marker_line_width=1.5, \n",
    "        opacity=0.8))\n",
    "\n",
    "# Testing data bar\n",
    "fig.add_trace(\n",
    "    go.Bar(\n",
    "        x=class_counts['Cathegory'], \n",
    "        y = class_counts['Test'], \n",
    "        name = \"Validation data\", \n",
    "        marker_color='#0e82a8', \n",
    "        marker_line_color='#333333',\n",
    "        marker_line_width=1.5, \n",
    "        opacity=0.8))\n",
    "\n",
    "# Change bar mode\n",
    "fig.update_layout(barmode='stack')\n",
    "\n",
    "# Layout\n",
    "fig.update_layout(\n",
    "    autosize=False,\n",
    "    width=900,\n",
    "    height=300,\n",
    "    margin={'l': 0, 'r': 0, 't':  20, 'b': 50},\n",
    "    template=\"simple_white\",\n",
    "    xaxis = go.layout.XAxis(showticklabels=False),\n",
    "    yaxis_title = \"Count\")\n",
    "\n",
    "# Legend\n",
    "fig.update_layout(legend=dict(\n",
    "    orientation=\"h\",\n",
    "    yanchor=\"bottom\",\n",
    "    y=1.02,\n",
    "    xanchor=\"right\",\n",
    "    x=1))\n",
    "\n",
    "# X-axis labels - traffic road sign images\n",
    "images = [\"bv6Fznf\", \"DVr34X9\", \"d4cdZCy\", \"F7MkBJn\", \"41xqB89\", \"CtFW28t\", \"Xj2CS23\", \"cF8YTfL\", \"Cbj0NyQ\", \"tbVFVgL\", \n",
    "          \"vzc91p9\", \"wwvr5KP\", \"FXwVQN1\", \"8YHdrwg\", \"RbhDT0z\", \"YQfB5pt\", \"NCzPMBX\", \"vzCggg4\", \"7Ry9pzv\", \"PGQX8sb\",\n",
    "          \"sW3Jr8W\", \"mcYTmM3\", \"jHJ7Xp0\", \"Z8zr6wK\", \"N74Bhhz\", \"B3tFC1M\", \"3Fs6TnY\", \"qyfbcjk\", \"vhDrGhJ\", \"RHXQMdC\",\n",
    "          \"d6Wtk5S\", \"VJc6m9S\", \"mGj2Yc0\", \"m4zfJNM\", \"MVYGpPy\", \"GphzNxr\", \"514jxQ8\", \"gPKg1tr\", \"Thyy7v3\", \"HYCWsbh\",\n",
    "          \"YP7ZHDH\", \"6rtHGKg\", \"Wp9NDmB\"]\n",
    "\n",
    "for i in range(0,43):\n",
    "    source = str(\"https://i.ibb.co/\"+images[i]+\"/image.png\")\n",
    "    fig.add_layout_image(dict(\n",
    "            source=source,\n",
    "            x=0.022+i*0.02328,\n",
    "            y=-0.12))\n",
    "\n",
    "# X-axis images properties\n",
    "fig.update_layout_images(dict(\n",
    "        xref=\"paper\",\n",
    "        yref=\"paper\",\n",
    "        sizex=0.077,\n",
    "        sizey=0.077,\n",
    "        xanchor=\"right\",\n",
    "        yanchor=\"bottom\"))\n",
    "\n",
    "# HTML export\n",
    "fig.write_html(\"Class_counts.html\")"
   ]
  }
 ]
}